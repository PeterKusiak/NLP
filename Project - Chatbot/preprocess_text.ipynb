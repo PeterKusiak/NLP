{
 "cells": [
  {
   "cell_type": "markdown",
   "metadata": {},
   "source": [
    "## This file includes the preprocessing steps"
   ]
  },
  {
   "cell_type": "code",
   "execution_count": 1,
   "metadata": {},
   "outputs": [],
   "source": [
    "\n",
    "import numpy as np\n",
    "from spacy.lang.en import English\n",
    "import en_core_web_sm\n",
    "sp = en_core_web_sm.load()"
   ]
  },
  {
   "cell_type": "code",
   "execution_count": 3,
   "metadata": {},
   "outputs": [],
   "source": [
    "#This function will get the elements, words and all the classes of intents from the dataset\n",
    "\n",
    "#we wlll use spacy library to preprocess, and it will be done on English language\n",
    "nlp = English()\n",
    "\n",
    "\n",
    "def get_elements(intents):\n",
    "    words = []\n",
    "    classes = []\n",
    "    documents = []\n",
    "    ignore_words = ['?']\n",
    "    #loopin on all the objects in the intents \n",
    "    for intent in intents['intents']:\n",
    "        \n",
    "        #looping on all the queries that a user can have\n",
    "        for pattern in intent['patterns']:\n",
    "            \n",
    "            #converting the sting into the spacy document object \n",
    "            doc = nlp(pattern)\n",
    "            \n",
    "            #tokenisation using the apcy lobrary.\n",
    "            tokens = []\n",
    "            for token in doc:\n",
    "                tokens.append(token.text)\n",
    "                \n",
    "            # the words list contain the vocabulary\n",
    "            words.extend(tokens)\n",
    "            \n",
    "            #Collecting the documents\n",
    "            documents.append((tokens, intent['tag']))\n",
    "            \n",
    "            #appending all the classes into the intent list\n",
    "            if intent['tag'] not in classes:\n",
    "                classes.append(intent['tag'])\n",
    "      #print(token_list)\n",
    "    \n",
    "    #getting the lemantized word using spacy library\n",
    "    words = [sp(w.lower())[0].lemma_ for w in words if w not in ignore_words]\n",
    "    \n",
    "    #in vocabulary, have only the unique words\n",
    "    words = sorted(list(set(words)))\n",
    "    \n",
    "    # remove duplicates\n",
    "    classes = sorted(list(set(classes)))\n",
    "    return documents, classes, words\n",
    "    "
   ]
  },
  {
   "cell_type": "code",
   "execution_count": 5,
   "metadata": {},
   "outputs": [],
   "source": [
    "#cleaning the sentence for the prediction process\n",
    "def clean_up_sentence(sentence):\n",
    "    # tokenize the pattern\n",
    "    #make an object os spacy Document type\n",
    "    doc = nlp(sentence)\n",
    "    \n",
    "    #tokenize the sentence\n",
    "    token_list = []\n",
    "    for token in doc:\n",
    "        token_list.append(token.text)\n",
    "    \n",
    "    # stem each word\n",
    "    sentence_words = [sp(w.lower())[0].lemma_ for w in token_list]\n",
    "    return sentence_words\n"
   ]
  },
  {
   "cell_type": "code",
   "execution_count": 6,
   "metadata": {},
   "outputs": [],
   "source": [
    "# return bag of words array: 0 or 1 for each word in the bag that exists in the sentence\n",
    "def bow(sentence, words, show_details=True):\n",
    "    # tokenize the pattern\n",
    "    sentence_words = clean_up_sentence(sentence)\n",
    "    # bag of words\n",
    "    bag = [0]*len(words)  \n",
    "    \n",
    "    #makign the bag of words array. If the word matches in the vocabulary, the element at that position wil become 1,\n",
    "    #Rest all the elements are set to 0\n",
    "    for s in sentence_words:\n",
    "        for i,w in enumerate(words):\n",
    "            if w == s: \n",
    "                bag[i] = 1\n",
    "                if show_details:\n",
    "                    print (\"found in bag: %s\" % w)\n",
    "\n",
    "    return(np.array(bag))\n"
   ]
  },
  {
   "cell_type": "code",
   "execution_count": null,
   "metadata": {},
   "outputs": [],
   "source": []
  }
 ],
 "metadata": {
  "kernelspec": {
   "display_name": "Python 3",
   "language": "python",
   "name": "python3"
  },
  "language_info": {
   "codemirror_mode": {
    "name": "ipython",
    "version": 3
   },
   "file_extension": ".py",
   "mimetype": "text/x-python",
   "name": "python",
   "nbconvert_exporter": "python",
   "pygments_lexer": "ipython3",
   "version": "3.7.3"
  }
 },
 "nbformat": 4,
 "nbformat_minor": 2
}
