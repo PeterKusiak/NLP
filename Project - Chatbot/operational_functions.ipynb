{
 "cells": [
  {
   "cell_type": "code",
   "execution_count": 1,
   "metadata": {},
   "outputs": [],
   "source": [
    "import pandas as pd\n",
    "import datetime\n",
    "\n",
    "def enter_cities():\n",
    "\n",
    "    source = input(\"From\")\n",
    "    destination = input(\"To\")\n",
    "\n",
    "    date_entry = input('Enter a date in MM-DD-YYYY format')\n",
    "    month, day, year = map(int, date_entry.split('-'))\n",
    "    date1 = datetime.date(year, month, day)\n",
    "\n",
    "\n",
    "    flights ={'Flight number':  ['PB777', 'PB976', 'PB315'],\n",
    "        'Source': ['Mohali', 'Mohali', 'Mohali'],\n",
    "        'Destiation': ['Toronto', 'Toronto', 'Toronto'],\n",
    "        'Time' : ['6:30', '18:30', '23:45']\n",
    "        }\n",
    "\n",
    "    return [pd.DataFrame(flights)]\n"
   ]
  },
  {
   "cell_type": "code",
   "execution_count": 2,
   "metadata": {},
   "outputs": [],
   "source": [
    "def get_time():\n",
    "    flight_number = input(\"please enter the flight number you would like to book\")\n",
    "    return flight_number\n",
    "\n",
    "def cancel_ticket():\n",
    "    code = input()\n",
    "    return \"The booking for \" +code+\" has been cancelled\"\n",
    "\n",
    "def book_business_class():\n",
    "    return \"Booking business class for you\"\n",
    "\n",
    "\n",
    "def book_economy_class():\n",
    "    return \"Booking economy class for you\"\n",
    "\n",
    "def book_premium_economy_class():\n",
    "    return \"Booking premium econnomy class for you\""
   ]
  },
  {
   "cell_type": "code",
   "execution_count": null,
   "metadata": {},
   "outputs": [],
   "source": []
  }
 ],
 "metadata": {
  "kernelspec": {
   "display_name": "Python 3",
   "language": "python",
   "name": "python3"
  },
  "language_info": {
   "codemirror_mode": {
    "name": "ipython",
    "version": 3
   },
   "file_extension": ".py",
   "mimetype": "text/x-python",
   "name": "python",
   "nbconvert_exporter": "python",
   "pygments_lexer": "ipython3",
   "version": "3.7.3"
  }
 },
 "nbformat": 4,
 "nbformat_minor": 2
}
