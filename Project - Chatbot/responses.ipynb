{
 "cells": [
  {
   "cell_type": "markdown",
   "metadata": {},
   "source": [
    "## This a main file. The responses of a chatbot are delivered from here"
   ]
  },
  {
   "cell_type": "markdown",
   "metadata": {},
   "source": [
    "## Preprocessing the text"
   ]
  },
  {
   "cell_type": "code",
   "execution_count": 16,
   "metadata": {},
   "outputs": [],
   "source": [
    "%run preprocess_text.ipynb"
   ]
  },
  {
   "cell_type": "markdown",
   "metadata": {},
   "source": [
    "### Getting operational functions (to book a flight, or cancel a fligth etc)"
   ]
  },
  {
   "cell_type": "code",
   "execution_count": 17,
   "metadata": {},
   "outputs": [],
   "source": [
    "%run operational_functions.ipynb"
   ]
  },
  {
   "cell_type": "code",
   "execution_count": 18,
   "metadata": {},
   "outputs": [],
   "source": [
    "import numpy as np\n"
   ]
  },
  {
   "cell_type": "code",
   "execution_count": 19,
   "metadata": {},
   "outputs": [],
   "source": [
    "import random\n",
    "from tensorflow.keras.models import load_model\n",
    " "
   ]
  },
  {
   "cell_type": "code",
   "execution_count": 20,
   "metadata": {},
   "outputs": [],
   "source": [
    "# import our chat-bot intents file\n",
    "import json\n",
    "with open('intents.json') as json_data:\n",
    "    intents = json.load(json_data)\n",
    "# create a data structure to hold user context\n",
    "context = {}"
   ]
  },
  {
   "cell_type": "code",
   "execution_count": 21,
   "metadata": {},
   "outputs": [],
   "source": [
    "\n",
    "def classify(sentence, words, documents, classes):\n",
    "    \n",
    "    ERROR_THRESHOLD = 0.65\n",
    "    # creatig the bag of words\n",
    "    p = bow(sentence, words)\n",
    "    \n",
    "    d = len(p)\n",
    "    \n",
    "    f = len(documents)-2\n",
    "    \n",
    "    a = np.zeros([f, d])\n",
    "    \n",
    "    #concatenating two lists\n",
    "    tot = np.vstack((p,a))\n",
    "    \n",
    "    #loading the saved model\n",
    "    model = load_model('model_ChatBot.h5')\n",
    "    \n",
    "    \n",
    "    results = model.predict(tot)[0]\n",
    "    #print(\"reults\", results)\n",
    "    \n",
    "    # filter out predictions below a threshold\n",
    "    results = [[i,r] for i,r in enumerate(results) if r>ERROR_THRESHOLD]\n",
    "    \n",
    "    # sort by strength of probability. We can have mode than one response\n",
    "    results.sort(key=lambda x: x[1], reverse=True)\n",
    "    return_list = []\n",
    "    for r in results:\n",
    "        return_list.append((classes[r[0]], r[1]))\n",
    "    \n",
    "    # return tuple of intent and probability\n",
    "    return return_list\n",
    "\n",
    "documents, classes, words = get_elements(intents)"
   ]
  },
  {
   "cell_type": "code",
   "execution_count": 22,
   "metadata": {},
   "outputs": [],
   "source": [
    "def response(sentence, userID, context,words, documents, classes, show_details=False):\n",
    "    results = classify(sentence, words, documents, classes)\n",
    "    print('Result:',results)\n",
    "  \n",
    "    # if we have a classification then find the matching intent tag\n",
    "    if results:\n",
    "        # loop as long as there are matches to process\n",
    "        while results:\n",
    "            for i in intents['intents']:\n",
    "                #print(i['tag'] == results[0][0])\n",
    "                \n",
    "                # find a tag matching the first result\n",
    "                if i['tag'] == results[0][0]:\n",
    "                    \n",
    "                    # set context for this intent if necessary\n",
    "                    if 'context_set' in i:\n",
    "                        \n",
    "                        if show_details: print ('context:', i['context_set'])\n",
    "                        context[userID] = i['context_set']\n",
    "\n",
    "                    # check if this intent is contextual and applies to this user's conversation\n",
    "                    if ((not 'context_filter' in i) or (userID in context and 'context_filter' in i and i['context_filter'] == context[userID])):\n",
    "                        if results[0][0] == 'book':\n",
    "                            #res = i['responses']\n",
    "                            return [(random.choice(i['responses']))]\n",
    "                        #if show_details: print ('tag:', i['tag'])\n",
    "                        else:\n",
    "                            if show_details: print ('tag:', i['tag'])\n",
    "                            # a random response from the intent\n",
    "                            return [(random.choice(i['responses']))]\n",
    "            results.pop(0)\n"
   ]
  },
  {
   "cell_type": "code",
   "execution_count": 23,
   "metadata": {},
   "outputs": [],
   "source": [
    "\n",
    "#Creating a funtion for the custom responses. Like different functions will be called for booking, cancellation etx\n",
    "def print_response(res):\n",
    "    \n",
    "    \n",
    "    if res[0] == \"sure, please enter the source and destination\":\n",
    "        print(res[0])\n",
    "        df = enter_cities()\n",
    "        print(df)\n",
    "        get_time()\n",
    "        print(\"please enter the class you would like to fly\")\n",
    "        \n",
    "    elif res[0] == \"sure, please enter the PNR number\" or res[0] == \"no problem, please let me know your reference code\" or res[0] == \"We do refund the tickets happily. Please enter PNR number\":\n",
    "        print(res[0])\n",
    "        res = cancel_ticket()\n",
    "        print(res)\n",
    "        \n",
    "    elif res[0]==\"sure, enjoy your flight in the lap of luxury\" or res[0]==\"great, our business class offers range of facilities to make your flight memorable\":\n",
    "        print(res[0])\n",
    "        ans = book_business_class()\n",
    "        print(ans)\n",
    "        print(\"reserved a business class\")\n",
    "        \n",
    "    elif res[0]==\"sure, our premium economy classes are a great value for your money\" or res[0]==\"great, our premium economy seats have the biggest leg rooms\":\n",
    "        print(res[0])\n",
    "        ans = book_premium_economy_class()\n",
    "        print(ans)\n",
    "        print(\"reserved a premium economy for you\")\n",
    "    \n",
    "    elif res[0]==\"sure, we provide the seats at most affordable prices\" or res[0]==\"great, our seats have biggest leg rooms\":\n",
    "        print(res[0])\n",
    "        ans = book_economy_class()\n",
    "        print(ans)\n",
    "        print(\"reserved an economy for you\")\n",
    "        \n",
    "    else:\n",
    "        for r in res:\n",
    "            print(r)\n"
   ]
  },
  {
   "cell_type": "code",
   "execution_count": 24,
   "metadata": {},
   "outputs": [
    {
     "name": "stdout",
     "output_type": "stream",
     "text": [
      "found in bag: hello\n",
      "Result: [('greeting', 0.99974483)]\n",
      "Good to see you again, Welcome to Fly Sutlej\n"
     ]
    }
   ],
   "source": [
    "res = response(\"Hello\", \"123\", context,words, documents, classes)\n",
    "print_response(res)"
   ]
  },
  {
   "cell_type": "code",
   "execution_count": 25,
   "metadata": {},
   "outputs": [
    {
     "name": "stdout",
     "output_type": "stream",
     "text": [
      "found in bag: i\n",
      "found in bag: want\n",
      "found in bag: to\n",
      "found in bag: book\n",
      "found in bag: a\n",
      "found in bag: flight\n",
      "Result: [('book', 0.95589113)]\n",
      "sure, please enter the source and destination\n",
      "FromMohali\n",
      "ToToronto\n",
      "Enter a date in MM-DD-YYYY format03-12-2021\n",
      "[  Flight number  Source Destiation   Time\n",
      "0         PB777  Mohali    Toronto   6:30\n",
      "1         PB976  Mohali    Toronto  18:30\n",
      "2         PB315  Mohali    Toronto  23:45]\n",
      "please enter the flight number you would like to bookPb777\n",
      "please enter the class you would like to fly\n"
     ]
    }
   ],
   "source": [
    "res = response(\"I want to book a flight\",\"123\", context,words, documents, classes)\n",
    "print_response(res)"
   ]
  },
  {
   "cell_type": "code",
   "execution_count": 26,
   "metadata": {},
   "outputs": [
    {
     "name": "stdout",
     "output_type": "stream",
     "text": [
      "found in bag: business\n",
      "found in bag: class\n",
      "Result: [('business', 0.9999949)]\n",
      "great, our business class offers range of facilities to make your flight memorable\n",
      "Booking business class for you\n",
      "reserved a business class\n"
     ]
    }
   ],
   "source": [
    "res = response(\"business class\", \"123\", context,words, documents, classes)\n",
    "print_response(res)"
   ]
  },
  {
   "cell_type": "code",
   "execution_count": 27,
   "metadata": {},
   "outputs": [
    {
     "name": "stdout",
     "output_type": "stream",
     "text": [
      "found in bag: how\n",
      "found in bag: can\n",
      "found in bag: i\n",
      "found in bag: pay\n",
      "Result: [('payments', 0.99990606)]\n",
      "We accept VISA, Mastercard and AMEX\n"
     ]
    }
   ],
   "source": [
    "res = response(\"How can I pay\", \"123\", context,words, documents, classes)\n",
    "print_response(res)\n"
   ]
  },
  {
   "cell_type": "code",
   "execution_count": 28,
   "metadata": {},
   "outputs": [
    {
     "name": "stdout",
     "output_type": "stream",
     "text": [
      "found in bag: thank\n",
      "Result: [('thanks', 0.99965537)]\n",
      "have a happy journey\n"
     ]
    }
   ],
   "source": [
    "res = response(\"Thanks!\",\"123\", context,words, documents, classes)\n",
    "print_response(res)"
   ]
  },
  {
   "cell_type": "code",
   "execution_count": 29,
   "metadata": {},
   "outputs": [
    {
     "name": "stdout",
     "output_type": "stream",
     "text": [
      "found in bag: i\n",
      "found in bag: need\n",
      "found in bag: to\n",
      "found in bag: get\n",
      "found in bag: -PRON-\n",
      "found in bag: refund\n",
      "found in bag: back\n",
      "Result: [('cancel', 0.9999926)]\n",
      "We do refund the tickets happily. Please enter PNR number\n",
      "Pbasss\n",
      "The booking for Pbasss has been cancelled\n"
     ]
    }
   ],
   "source": [
    "res = response(\"I need to get my refund back\",\"123\", context,words, documents, classes)\n",
    "print_response(res)"
   ]
  },
  {
   "cell_type": "code",
   "execution_count": null,
   "metadata": {},
   "outputs": [],
   "source": []
  }
 ],
 "metadata": {
  "kernelspec": {
   "display_name": "Python 3",
   "language": "python",
   "name": "python3"
  },
  "language_info": {
   "codemirror_mode": {
    "name": "ipython",
    "version": 3
   },
   "file_extension": ".py",
   "mimetype": "text/x-python",
   "name": "python",
   "nbconvert_exporter": "python",
   "pygments_lexer": "ipython3",
   "version": "3.7.3"
  }
 },
 "nbformat": 4,
 "nbformat_minor": 2
}
