{
 "cells": [
  {
   "cell_type": "markdown",
   "metadata": {},
   "source": [
    "## This file is used to train the chatbot. It imports some functions from preprocess_text"
   ]
  },
  {
   "cell_type": "markdown",
   "metadata": {},
   "source": [
    "\n",
    "### Running the preprocess_text file to preprocess the data"
   ]
  },
  {
   "cell_type": "code",
   "execution_count": 2,
   "metadata": {},
   "outputs": [],
   "source": [
    "%run preprocess_text.ipynb"
   ]
  },
  {
   "cell_type": "code",
   "execution_count": 3,
   "metadata": {},
   "outputs": [],
   "source": [
    "\n",
    "import numpy as np\n",
    "import pandas as pd\n",
    "import random\n",
    "from spacy.lang.en import English\n",
    "import spacy\n",
    "import tensorflow as tf\n",
    "\n",
    "from tensorflow.keras.models import Sequential\n",
    "from tensorflow.keras.layers import Dense, Activation\n",
    "from tensorflow.keras import utils\n",
    "from tensorflow.keras import layers\n",
    "\n",
    "import matplotlib.pyplot as plt\n"
   ]
  },
  {
   "cell_type": "markdown",
   "metadata": {},
   "source": [
    "Since the data vailable with us is low, we will train the model using the bag of words approach"
   ]
  },
  {
   "cell_type": "code",
   "execution_count": 4,
   "metadata": {},
   "outputs": [],
   "source": [
    "# import our chat-bot intents file\n",
    "import json\n",
    "with open('intents.json') as json_data:\n",
    "    intents = json.load(json_data)\n",
    "    \n",
    "import en_core_web_sm\n",
    "#loading english vocabulary\n",
    "sp = en_core_web_sm.load()\n"
   ]
  },
  {
   "cell_type": "code",
   "execution_count": 5,
   "metadata": {},
   "outputs": [
    {
     "name": "stdout",
     "output_type": "stream",
     "text": [
      "60 documents\n",
      "[(['Hi'], 'greeting'), (['How', 'are', 'you'], 'greeting'), (['Hello', ','], 'greeting'), (['Hello'], 'greeting'), (['Good', 'day', 'and', 'Welcome', 'to', 'Fly', 'Sutlej'], 'greeting'), (['Good', 'Morning'], 'greeting'), (['Good', 'Evening', 'and', 'Welcome', 'to', 'Fly', 'Sutlej'], 'greeting'), (['Good', 'Afternoon'], 'greeting'), (['Bye'], 'goodbye'), (['See', 'you', 'later'], 'goodbye'), (['Goodbye'], 'goodbye'), (['bbye'], 'goodbye'), (['bye', 'bye'], 'goodbye'), (['Thanks'], 'thanks'), (['Thank', 'you'], 'thanks'), (['That', \"'s\", 'helpful'], 'thanks'), (['thanks', 'a', 'lot'], 'thanks'), ([], 'noanswer'), (['I', 'would', 'like', 'to', 'book', 'a', 'flight'], 'book'), (['I', 'would', 'like', 'to', 'fly'], 'book'), (['I', 'want', 'to', 'book', 'a', 'flight', 'for', 'my', 'family'], 'book'), (['Do', 'you', 'have', 'economy', 'seats', 'available'], 'book'), (['I', 'want', 'to', 'book', 'seats', 'for', 'two', 'passengers'], 'book'), (['I', 'would', 'like', 'to', 'book', 'two', 'economy', 'class', 'seats'], 'book'), (['I', 'want', 'to', 'fly', 'a', 'business', 'class'], 'book'), (['economy', 'class'], 'economy'), (['I', 'want', 'to', 'book', 'an', 'economy', 'class'], 'economy'), (['economy'], 'economy'), (['economy', 'please'], 'economy'), (['I', 'would', 'like', 'to', 'go', 'for', 'an', 'economy', 'class'], 'economy'), (['premium', 'economy', 'class'], 'premium-economy'), (['I', 'want', 'to', 'book', 'an', 'premium', 'economy', 'class'], 'premium-economy'), (['economy'], 'premium-economy'), (['premium', 'economy', 'please'], 'premium-economy'), (['I', 'would', 'like', 'to', 'go', 'for', 'an', 'premium', 'economy', 'class'], 'premium-economy'), (['premium', 'economy'], 'premium-economy'), (['business', 'class'], 'business'), (['I', 'want', 'to', 'book', 'a', 'business', 'class'], 'business'), (['business', 'class', 'please'], 'business'), (['business'], 'business'), (['I', 'would', 'like', 'to', 'go', 'for', 'a', 'business', 'class'], 'business'), (['business', 'please'], 'business'), (['Do', 'you', 'take', 'credit', 'cards', '?'], 'payments'), (['Do', 'you', 'accept', 'Mastercard', '?'], 'payments'), (['Are', 'you', 'cash', 'only', '?'], 'payments'), (['Can', 'I', 'pay', 'by', 'debit', 'card'], 'payments'), (['I', 'would', 'like', 'to', 'make', 'a', 'payement'], 'payments'), (['I', 'want', 'topay'], 'payments'), (['How', 'can', 'I', 'pay'], 'payments'), (['Can', 'I', 'pay', 'using', 'credit', 'card'], 'payments'), (['Can', 'I', 'pay', 'by', 'Debit', 'card'], 'payments'), (['I', 'want', 'to', 'cancel', 'my', 'ticket'], 'cancel'), (['Is', 'there', 'any', 'cancellation', 'policy'], 'cancel'), (['I', 'need', 'to', 'get', 'my', 'refund', 'back'], 'cancel'), (['I', 'want', 'to', 'refund', 'the', 'ticket'], 'cancel'), (['I', 'want', 'to', 'cancel', 'my', 'flight'], 'cancel'), (['Are', 'there', 'any', 'refund', 'policies', '?'], 'cancel'), (['Are', 'there', 'any', 'cancellation', 'policies'], 'cancel'), (['How', 'can', 'I', 'get', 'my', 'money', 'back'], 'cancel'), (['I', 'want', 'to', 'get', 'a', 'refund', 'for', 'my', 'ticket'], 'cancel')]\n",
      "10 classes ['book', 'business', 'cancel', 'economy', 'goodbye', 'greeting', 'noanswer', 'payments', 'premium-economy', 'thanks']\n",
      "75 unique stemmed words [\"'s\", ',', '-PRON-', 'a', 'accept', 'afternoon', 'an', 'and', 'any', 'available', 'back', 'bbye', 'be', 'book', 'business', 'by', 'bye', 'can', 'cancel', 'cancellation', 'card', 'cash', 'class', 'credit', 'day', 'debit', 'do', 'economy', 'evening', 'family', 'flight', 'fly', 'for', 'get', 'go', 'good', 'goodbye', 'have', 'hello', 'helpful', 'hi', 'how', 'i', 'later', 'like', 'lot', 'make', 'mastercard', 'money', 'morning', 'need', 'only', 'passenger', 'pay', 'payement', 'please', 'policy', 'premium', 'refund', 'seat', 'see', 'sutlej', 'take', 'thank', 'that', 'the', 'there', 'ticket', 'to', 'topay', 'two', 'use', 'want', 'welcome', 'would']\n"
     ]
    }
   ],
   "source": [
    "#from preprocess_text import get_elements\n",
    "documents, classes, words = get_elements(intents)\n",
    "\n",
    "print (len(documents), \"documents\")\n",
    "print(documents)\n",
    "print (len(classes), \"classes\", classes)\n",
    "print (len(words), \"unique stemmed words\", words)\n"
   ]
  },
  {
   "cell_type": "code",
   "execution_count": 11,
   "metadata": {},
   "outputs": [],
   "source": [
    "\n",
    "# create our training data\n",
    "training = []\n",
    "output = []\n",
    "# create an empty array for our output\n",
    "output_empty = [0] * len(classes)\n",
    "\n",
    "\n",
    "\n",
    "# training set, bag of words for each sentence\n",
    "for doc in documents:\n",
    "    # initialize our bag of words\n",
    "    bag = []\n",
    "    # list of tokenized words for the pattern\n",
    "    pattern_words = doc[0]\n",
    "    # stem each word\n",
    "    pattern_words = [sp(word.lower())[0].lemma_  for word in pattern_words]\n",
    "    # create our bag of words array\n",
    "    for w in words:\n",
    "        bag.append(1) if w in pattern_words else bag.append(0)\n",
    "\n",
    "    # output is a '0' for each tag and '1' for current tag\n",
    "    output_row = list(output_empty)\n",
    "    #print(classes.index(doc[1]))\n",
    "    output_row[classes.index(doc[1])] = 1\n",
    "\n",
    "    training.append([bag, output_row])\n",
    "    "
   ]
  },
  {
   "cell_type": "code",
   "execution_count": 12,
   "metadata": {},
   "outputs": [],
   "source": [
    "    \n",
    "# shuffle our features and turn into np.array\n",
    "random.shuffle(training)\n",
    "training = np.array(training)\n",
    "\n",
    "# create train and test lists\n",
    "train_x = list(training[:,0])\n",
    "train_y = list(training[:,1])\n"
   ]
  },
  {
   "cell_type": "code",
   "execution_count": 13,
   "metadata": {},
   "outputs": [
    {
     "name": "stdout",
     "output_type": "stream",
     "text": [
      "Model: \"sequential\"\n",
      "_________________________________________________________________\n",
      "Layer (type)                 Output Shape              Param #   \n",
      "=================================================================\n",
      "dense (Dense)                (None, 32)                2432      \n",
      "_________________________________________________________________\n",
      "dense_1 (Dense)              (None, 16)                528       \n",
      "_________________________________________________________________\n",
      "dense_2 (Dense)              (None, 16)                272       \n",
      "_________________________________________________________________\n",
      "dense_3 (Dense)              (None, 10)                170       \n",
      "=================================================================\n",
      "Total params: 3,402\n",
      "Trainable params: 3,402\n",
      "Non-trainable params: 0\n",
      "_________________________________________________________________\n"
     ]
    }
   ],
   "source": [
    "\n",
    "model = Sequential()\n",
    "model.add(Dense(32, input_shape=[len(train_x[0],)]))\n",
    "model.add(Dense(16))\n",
    "model.add(Dense(16))\n",
    "model.add(Dense(len(train_y[0]), activation='softmax'))\n",
    "\n",
    "model.summary()\n",
    "model.compile(loss='categorical_crossentropy', optimizer='adam', metrics=['acc'])\n",
    "history = model.fit(np.array(train_x), np.array(train_y), epochs=500, batch_size=8, verbose = 0)"
   ]
  },
  {
   "cell_type": "code",
   "execution_count": 14,
   "metadata": {},
   "outputs": [
    {
     "data": {
      "image/png": "[encoded data removed]",
      "text/plain": [
       "<Figure size 432x288 with 1 Axes>"
      ]
     },
     "metadata": {
      "needs_background": "light"
     },
     "output_type": "display_data"
    },
    {
     "data": {
      "image/png": "[encoded data removed]",
      "text/plain": [
       "<Figure size 432x288 with 1 Axes>"
      ]
     },
     "metadata": {
      "needs_background": "light"
     },
     "output_type": "display_data"
    }
   ],
   "source": [
    "#saving the model in the file system. This will be used to load in the later phase\n",
    "model.save('model_ChatBot.h5')\n",
    "\n",
    "\n",
    "\n",
    "history_dict = history.history\n",
    "history_dict.keys()\n",
    "acc = history.history['acc']\n",
    "loss = history.history['loss']\n",
    "epochs = range(1, len(acc) + 1)\n",
    "plt.plot(epochs, acc, 'bo', label='Training acc')\n",
    "plt.title('Training and validation accuracy')\n",
    "plt.legend()\n",
    "plt.figure()\n",
    "plt.plot(epochs, loss, 'bo', label='Training loss')\n",
    "plt.title('Training and validation loss')\n",
    "plt.legend()\n",
    "plt.show()"
   ]
  },
  {
   "cell_type": "code",
   "execution_count": null,
   "metadata": {},
   "outputs": [],
   "source": []
  }
 ],
 "metadata": {
  "kernelspec": {
   "display_name": "Python 3",
   "language": "python",
   "name": "python3"
  },
  "language_info": {
   "codemirror_mode": {
    "name": "ipython",
    "version": 3
   },
   "file_extension": ".py",
   "mimetype": "text/x-python",
   "name": "python",
   "nbconvert_exporter": "python",
   "pygments_lexer": "ipython3",
   "version": "3.7.3"
  }
 },
 "nbformat": 4,
 "nbformat_minor": 2
}
